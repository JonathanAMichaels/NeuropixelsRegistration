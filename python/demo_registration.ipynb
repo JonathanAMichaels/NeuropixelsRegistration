{
 "cells": [
  {
   "cell_type": "code",
   "execution_count": 1,
   "metadata": {},
   "outputs": [],
   "source": [
    "%load_ext autoreload\n",
    "%autoreload 2\n",
    "import os\n",
    "import numpy as np\n",
    "import matplotlib.pyplot as plt\n",
    "%matplotlib inline\n",
    "from ibllib.io.spikeglx import Reader\n",
    "import estimate_displacement as ed\n",
    "from utils import mat2npy"
   ]
  },
  {
   "cell_type": "code",
   "execution_count": 2,
   "metadata": {},
   "outputs": [],
   "source": [
    "# This implementation has been tested with Neuropixels 1.0\n",
    "geomarray = mat2npy('neuropixPhase3B1_kilosortChanMap.mat') # convert .mat chan file to .npy chan file"
   ]
  },
  {
   "cell_type": "code",
   "execution_count": 3,
   "outputs": [
    {
     "name": "stdout",
     "output_type": "stream",
     "text": [
      "['']\n"
     ]
    },
    {
     "ename": "PermissionError",
     "evalue": "[Errno 13] Permission denied: '/Neuropixel-'",
     "output_type": "error",
     "traceback": [
      "\u001B[0;31m---------------------------------------------------------------------------\u001B[0m",
      "\u001B[0;31mPermissionError\u001B[0m                           Traceback (most recent call last)",
      "\u001B[0;32m/tmp/ipykernel_109707/3455751775.py\u001B[0m in \u001B[0;36m<module>\u001B[0;34m\u001B[0m\n\u001B[1;32m     36\u001B[0m     \u001B[0mregistration_directory\u001B[0m \u001B[0;34m=\u001B[0m \u001B[0mworking_directory\u001B[0m \u001B[0;34m+\u001B[0m \u001B[0;34m'NeuropixelsRegistration/'\u001B[0m\u001B[0;34m\u001B[0m\u001B[0;34m\u001B[0m\u001B[0m\n\u001B[1;32m     37\u001B[0m     \u001B[0;32mif\u001B[0m \u001B[0;32mnot\u001B[0m \u001B[0mos\u001B[0m\u001B[0;34m.\u001B[0m\u001B[0mpath\u001B[0m\u001B[0;34m.\u001B[0m\u001B[0mexists\u001B[0m\u001B[0;34m(\u001B[0m\u001B[0mregistration_directory\u001B[0m\u001B[0;34m)\u001B[0m\u001B[0;34m:\u001B[0m\u001B[0;34m\u001B[0m\u001B[0;34m\u001B[0m\u001B[0m\n\u001B[0;32m---> 38\u001B[0;31m         \u001B[0mos\u001B[0m\u001B[0;34m.\u001B[0m\u001B[0mmakedirs\u001B[0m\u001B[0;34m(\u001B[0m\u001B[0mregistration_directory\u001B[0m\u001B[0;34m)\u001B[0m\u001B[0;34m\u001B[0m\u001B[0;34m\u001B[0m\u001B[0m\n\u001B[0m\u001B[1;32m     39\u001B[0m \u001B[0;34m\u001B[0m\u001B[0m\n\u001B[1;32m     40\u001B[0m     \u001B[0mreader\u001B[0m \u001B[0;34m=\u001B[0m \u001B[0mReader\u001B[0m\u001B[0;34m(\u001B[0m\u001B[0mworking_directory\u001B[0m \u001B[0;34m+\u001B[0m \u001B[0mfile_name\u001B[0m \u001B[0;34m+\u001B[0m \u001B[0;34m'_g0_tcat.imec0.ap.bin'\u001B[0m\u001B[0;34m)\u001B[0m \u001B[0;31m# I assume you've used CatGT (tcat / t0)\u001B[0m\u001B[0;34m\u001B[0m\u001B[0;34m\u001B[0m\u001B[0m\n",
      "\u001B[0;32m/usr/lib/python3.8/os.py\u001B[0m in \u001B[0;36mmakedirs\u001B[0;34m(name, mode, exist_ok)\u001B[0m\n\u001B[1;32m    211\u001B[0m     \u001B[0;32mif\u001B[0m \u001B[0mhead\u001B[0m \u001B[0;32mand\u001B[0m \u001B[0mtail\u001B[0m \u001B[0;32mand\u001B[0m \u001B[0;32mnot\u001B[0m \u001B[0mpath\u001B[0m\u001B[0;34m.\u001B[0m\u001B[0mexists\u001B[0m\u001B[0;34m(\u001B[0m\u001B[0mhead\u001B[0m\u001B[0;34m)\u001B[0m\u001B[0;34m:\u001B[0m\u001B[0;34m\u001B[0m\u001B[0;34m\u001B[0m\u001B[0m\n\u001B[1;32m    212\u001B[0m         \u001B[0;32mtry\u001B[0m\u001B[0;34m:\u001B[0m\u001B[0;34m\u001B[0m\u001B[0;34m\u001B[0m\u001B[0m\n\u001B[0;32m--> 213\u001B[0;31m             \u001B[0mmakedirs\u001B[0m\u001B[0;34m(\u001B[0m\u001B[0mhead\u001B[0m\u001B[0;34m,\u001B[0m \u001B[0mexist_ok\u001B[0m\u001B[0;34m=\u001B[0m\u001B[0mexist_ok\u001B[0m\u001B[0;34m)\u001B[0m\u001B[0;34m\u001B[0m\u001B[0;34m\u001B[0m\u001B[0m\n\u001B[0m\u001B[1;32m    214\u001B[0m         \u001B[0;32mexcept\u001B[0m \u001B[0mFileExistsError\u001B[0m\u001B[0;34m:\u001B[0m\u001B[0;34m\u001B[0m\u001B[0;34m\u001B[0m\u001B[0m\n\u001B[1;32m    215\u001B[0m             \u001B[0;31m# Defeats race condition when another thread created the path\u001B[0m\u001B[0;34m\u001B[0m\u001B[0;34m\u001B[0m\u001B[0;34m\u001B[0m\u001B[0m\n",
      "\u001B[0;32m/usr/lib/python3.8/os.py\u001B[0m in \u001B[0;36mmakedirs\u001B[0;34m(name, mode, exist_ok)\u001B[0m\n\u001B[1;32m    211\u001B[0m     \u001B[0;32mif\u001B[0m \u001B[0mhead\u001B[0m \u001B[0;32mand\u001B[0m \u001B[0mtail\u001B[0m \u001B[0;32mand\u001B[0m \u001B[0;32mnot\u001B[0m \u001B[0mpath\u001B[0m\u001B[0;34m.\u001B[0m\u001B[0mexists\u001B[0m\u001B[0;34m(\u001B[0m\u001B[0mhead\u001B[0m\u001B[0;34m)\u001B[0m\u001B[0;34m:\u001B[0m\u001B[0;34m\u001B[0m\u001B[0;34m\u001B[0m\u001B[0m\n\u001B[1;32m    212\u001B[0m         \u001B[0;32mtry\u001B[0m\u001B[0;34m:\u001B[0m\u001B[0;34m\u001B[0m\u001B[0;34m\u001B[0m\u001B[0m\n\u001B[0;32m--> 213\u001B[0;31m             \u001B[0mmakedirs\u001B[0m\u001B[0;34m(\u001B[0m\u001B[0mhead\u001B[0m\u001B[0;34m,\u001B[0m \u001B[0mexist_ok\u001B[0m\u001B[0;34m=\u001B[0m\u001B[0mexist_ok\u001B[0m\u001B[0;34m)\u001B[0m\u001B[0;34m\u001B[0m\u001B[0;34m\u001B[0m\u001B[0m\n\u001B[0m\u001B[1;32m    214\u001B[0m         \u001B[0;32mexcept\u001B[0m \u001B[0mFileExistsError\u001B[0m\u001B[0;34m:\u001B[0m\u001B[0;34m\u001B[0m\u001B[0;34m\u001B[0m\u001B[0m\n\u001B[1;32m    215\u001B[0m             \u001B[0;31m# Defeats race condition when another thread created the path\u001B[0m\u001B[0;34m\u001B[0m\u001B[0;34m\u001B[0m\u001B[0;34m\u001B[0m\u001B[0m\n",
      "\u001B[0;32m/usr/lib/python3.8/os.py\u001B[0m in \u001B[0;36mmakedirs\u001B[0;34m(name, mode, exist_ok)\u001B[0m\n\u001B[1;32m    211\u001B[0m     \u001B[0;32mif\u001B[0m \u001B[0mhead\u001B[0m \u001B[0;32mand\u001B[0m \u001B[0mtail\u001B[0m \u001B[0;32mand\u001B[0m \u001B[0;32mnot\u001B[0m \u001B[0mpath\u001B[0m\u001B[0;34m.\u001B[0m\u001B[0mexists\u001B[0m\u001B[0;34m(\u001B[0m\u001B[0mhead\u001B[0m\u001B[0;34m)\u001B[0m\u001B[0;34m:\u001B[0m\u001B[0;34m\u001B[0m\u001B[0;34m\u001B[0m\u001B[0m\n\u001B[1;32m    212\u001B[0m         \u001B[0;32mtry\u001B[0m\u001B[0;34m:\u001B[0m\u001B[0;34m\u001B[0m\u001B[0;34m\u001B[0m\u001B[0m\n\u001B[0;32m--> 213\u001B[0;31m             \u001B[0mmakedirs\u001B[0m\u001B[0;34m(\u001B[0m\u001B[0mhead\u001B[0m\u001B[0;34m,\u001B[0m \u001B[0mexist_ok\u001B[0m\u001B[0;34m=\u001B[0m\u001B[0mexist_ok\u001B[0m\u001B[0;34m)\u001B[0m\u001B[0;34m\u001B[0m\u001B[0;34m\u001B[0m\u001B[0m\n\u001B[0m\u001B[1;32m    214\u001B[0m         \u001B[0;32mexcept\u001B[0m \u001B[0mFileExistsError\u001B[0m\u001B[0;34m:\u001B[0m\u001B[0;34m\u001B[0m\u001B[0;34m\u001B[0m\u001B[0m\n\u001B[1;32m    215\u001B[0m             \u001B[0;31m# Defeats race condition when another thread created the path\u001B[0m\u001B[0;34m\u001B[0m\u001B[0;34m\u001B[0m\u001B[0;34m\u001B[0m\u001B[0m\n",
      "\u001B[0;32m/usr/lib/python3.8/os.py\u001B[0m in \u001B[0;36mmakedirs\u001B[0;34m(name, mode, exist_ok)\u001B[0m\n\u001B[1;32m    221\u001B[0m             \u001B[0;32mreturn\u001B[0m\u001B[0;34m\u001B[0m\u001B[0;34m\u001B[0m\u001B[0m\n\u001B[1;32m    222\u001B[0m     \u001B[0;32mtry\u001B[0m\u001B[0;34m:\u001B[0m\u001B[0;34m\u001B[0m\u001B[0;34m\u001B[0m\u001B[0m\n\u001B[0;32m--> 223\u001B[0;31m         \u001B[0mmkdir\u001B[0m\u001B[0;34m(\u001B[0m\u001B[0mname\u001B[0m\u001B[0;34m,\u001B[0m \u001B[0mmode\u001B[0m\u001B[0;34m)\u001B[0m\u001B[0;34m\u001B[0m\u001B[0;34m\u001B[0m\u001B[0m\n\u001B[0m\u001B[1;32m    224\u001B[0m     \u001B[0;32mexcept\u001B[0m \u001B[0mOSError\u001B[0m\u001B[0;34m:\u001B[0m\u001B[0;34m\u001B[0m\u001B[0;34m\u001B[0m\u001B[0m\n\u001B[1;32m    225\u001B[0m         \u001B[0;31m# Cannot rely on checking for EEXIST, since the operating system\u001B[0m\u001B[0;34m\u001B[0m\u001B[0;34m\u001B[0m\u001B[0;34m\u001B[0m\u001B[0m\n",
      "\u001B[0;31mPermissionError\u001B[0m: [Errno 13] Permission denied: '/Neuropixel-'"
     ]
    }
   ],
   "source": [
    "# list of base directories containing neuropixel data folders\n",
    "base_dirs = ['']\n",
    "# filename list\n",
    "file_list = ['']\n",
    "# horizontal (time) smoothing list. If you have jumps in the registration you can increase this value to smooth estimation over time (>50)\n",
    "horz_smooth = [7]\n",
    "\n",
    "done_ind = [] # indices we've already processed\n",
    "for index in sorted(done_ind, reverse=True):\n",
    "    del base_dirs[index]\n",
    "    del file_list[index]\n",
    "    del horz_smooth[index]\n",
    "\n",
    "print(file_list)\n",
    "\n",
    "# I've only tested the spikeglx data reader that's part of ibllib (pip install ibllib)\n",
    "# yass is the default reader, but I've removed any mandatory yass imports in case you don't have that\n",
    "reader_type = 'spikeglx'\n",
    "# We only have to detect spikes once per dataset, then we can run the registration multiple times to test parameters\n",
    "detect_spikes = True\n",
    "# I've found non-rigid registration to be optimal, but it can introduce artifacts for some datasets\n",
    "rigid = False\n",
    "if rigid:\n",
    "    reg_win_num = 1\n",
    "    reg_block_num = 1\n",
    "    registration_type = 'rigid'\n",
    "else:\n",
    "    reg_win_num = 5 # default windowing\n",
    "    reg_block_num = 10 # default registration blocks\n",
    "    registration_type = 'non_rigid'\n",
    "\n",
    "for i in range(len(file_list)):\n",
    "    file_name = file_list[i]\n",
    "    working_directory = base_dirs[i] + '/Neuropixel-' + file_name + '/' + file_name + '_g0/' + file_name + '_g0_imec0/'\n",
    "    registration_directory = working_directory + 'NeuropixelsRegistration/'\n",
    "    if not os.path.exists(registration_directory):\n",
    "        os.makedirs(registration_directory)\n",
    "\n",
    "    # Prepare the data loader\n",
    "    reader = Reader(working_directory + file_name + '_g0_tcat.imec0.ap.bin') # I assume you've used CatGT (tcat / t0)\n",
    "\n",
    "    if detect_spikes:\n",
    "        # detect spikes\n",
    "        raster = ed.check_raster(reader, geomarray, reader_type=reader_type, num_chans_per_spike=2,\n",
    "                             detection_threshold=6,\n",
    "                             working_directory=registration_directory,\n",
    "                             save_raster_info=True)\n",
    "        # view raster\n",
    "        plt.figure(figsize=(16, 10))\n",
    "        plt.imshow(raster, vmin=0, vmax=10, aspect=\"auto\", cmap=plt.get_cmap('inferno'))\n",
    "        plt.ylabel(\"depth\", fontsize=16)\n",
    "        plt.xlabel(\"time\", fontsize=16)\n",
    "        plt.colorbar()\n",
    "        plt.show()\n",
    "\n",
    "    # run the registration\n",
    "    # visualization will be saved to decentralized_raster/, shift will be saved as total_shift.npy\n",
    "    total_shift = ed.estimate_displacement(reader, geomarray,\n",
    "                                           reader_type=reader_type,\n",
    "                                           num_chans_per_spike=2,\n",
    "                                           detection_threshold=6,\n",
    "                                           horz_smooth=horz_smooth[i],\n",
    "                                           reg_win_num=reg_win_num,\n",
    "                                           reg_block_num=reg_block_num,\n",
    "                                           iteration_num=4,\n",
    "                                           resume_with_raster=True,\n",
    "                                           working_directory=registration_directory)\n",
    "\n",
    "    plt.imshow(total_shift, aspect='auto')\n",
    "    plt.colorbar()\n",
    "    plt.show()\n",
    "\n",
    "    # create a new binary file with the drift corrected data ('standardized.bin')\n",
    "    # this file does not contain the digital sync channel, so use your original file for that\n",
    "    ed.register(reader, geomarray, total_shift, reader_type=reader_type,\n",
    "                registration_type=registration_type,\n",
    "                working_directory=registration_directory)"
   ],
   "metadata": {
    "collapsed": false,
    "pycharm": {
     "name": "#%%\n"
    }
   }
  },
  {
   "cell_type": "code",
   "execution_count": null,
   "outputs": [],
   "source": [
    "# Here I've broken up a few of the steps into cells\n",
    "base_dir = ''\n",
    "file_list = ['']\n",
    "reader_type = 'spikeglx'\n",
    "for i in range(len(file_list)):\n",
    "    file_name = file_list[i]\n",
    "    working_directory = base_dir + 'Neuropixel-' + file_name + '/' + file_name + '_g0/' + file_name + '_g0_imec0/'\n",
    "    registration_directory = working_directory + 'NeuropixelsRegistration/'\n",
    "    reader = Reader(working_directory + file_name + '_g0_tcat.imec0.ap.bin')"
   ],
   "metadata": {
    "collapsed": false,
    "pycharm": {
     "name": "#%%\n"
    }
   }
  },
  {
   "cell_type": "code",
   "execution_count": null,
   "outputs": [],
   "source": [
    "total_shift = ed.estimate_displacement(reader, geomarray,\n",
    "                                           reader_type=reader_type,\n",
    "                                           num_chans_per_spike=2,\n",
    "                                           detection_threshold=6,\n",
    "                                           horz_smooth=7,\n",
    "                                           reg_win_num=5,\n",
    "                                           reg_block_num=10,\n",
    "                                           iteration_num=4,\n",
    "                                           resume_with_raster=True,\n",
    "                                           working_directory=registration_directory)"
   ],
   "metadata": {
    "collapsed": false,
    "pycharm": {
     "name": "#%%\n"
    }
   }
  },
  {
   "cell_type": "code",
   "execution_count": null,
   "outputs": [],
   "source": [
    "total_shift = np.load(registration_directory + 'total_shift.npy')\n",
    "plt.imshow(total_shift, aspect='auto')\n",
    "plt.colorbar()\n",
    "plt.show()"
   ],
   "metadata": {
    "collapsed": false,
    "pycharm": {
     "name": "#%%\n"
    }
   }
  },
  {
   "cell_type": "code",
   "execution_count": null,
   "metadata": {
    "pycharm": {
     "name": "#%%\n"
    }
   },
   "outputs": [],
   "source": [
    "ed.register(reader, geomarray, total_shift, reader_type=reader_type,\n",
    "                registration_type='non_rigid',\n",
    "                working_directory=registration_directory)"
   ]
  }
 ],
 "metadata": {
  "kernelspec": {
   "name": "python3",
   "language": "python",
   "display_name": "Python 3 (ipykernel)"
  },
  "language_info": {
   "codemirror_mode": {
    "name": "ipython",
    "version": 3
   },
   "file_extension": ".py",
   "mimetype": "text/x-python",
   "name": "python",
   "nbconvert_exporter": "python",
   "pygments_lexer": "ipython3",
   "version": "3.7.9"
  }
 },
 "nbformat": 4,
 "nbformat_minor": 4
}